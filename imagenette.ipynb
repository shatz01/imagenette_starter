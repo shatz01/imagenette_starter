{
 "cells": [
  {
   "cell_type": "code",
   "execution_count": null,
   "id": "44d177da",
   "metadata": {},
   "outputs": [],
   "source": [
    "from torchvision.datasets.utils import download_url\n",
    "import os\n",
    "import tarfile\n",
    "import hashlib\n",
    "\n",
    "# https://github.com/fastai/imagenette\n",
    "\n",
    "#choose image sizes:\n",
    "datasets = {\n",
    "    'full_sz': 'https://s3.amazonaws.com/fast-ai-imageclas/imagenette2.tgz', # 1.5GB\n",
    "    '320px': 'https://s3.amazonaws.com/fast-ai-imageclas/imagenette2-320.tgz', # 326mb\n",
    "    '160px': 'https://s3.amazonaws.com/fast-ai-imageclas/imagenette2-160.tgz' # 94mb\n",
    "}\n",
    "\n",
    "\n",
    "dataset_url = datasets['full_sz']\n",
    "\n",
    "dataset_filename = dataset_url.split('/')[-1]\n",
    "dataset_foldername = dataset_filename.split('.')[0]\n",
    "data_path = './data'\n",
    "dataset_filepath = os.path.join(data_path,dataset_filename)\n",
    "dataset_folderpath = os.path.join(data_path,dataset_foldername)\n",
    "\n",
    "os.makedirs(data_path, exist_ok=True)\n",
    "\n",
    "download = False\n",
    "if not os.path.exists(dataset_filepath):\n",
    "    download = True\n",
    "else:\n",
    "    md5_hash = hashlib.md5()\n",
    "\n",
    "\n",
    "    file = open(dataset_filepath, \"rb\")\n",
    "\n",
    "    content = file.read()\n",
    "\n",
    "    md5_hash.update(content)\n",
    "\n",
    "\n",
    "    digest = md5_hash.hexdigest()\n",
    "    if digest != 'fe2fc210e6bb7c5664d602c3cd71e612':\n",
    "        download = True\n",
    "if download:\n",
    "    download_url(dataset_url, data_path)\n",
    "\n",
    "with tarfile.open(dataset_filepath, 'r:gz') as tar:\n",
    "    tar.extractall(path=data_path)"
   ]
  },
  {
   "cell_type": "code",
   "execution_count": null,
   "id": "82774b89",
   "metadata": {},
   "outputs": [],
   "source": [
    "dataset_train = torchvision.datasets.ImageFolder(os.path.join(dataset_folderpath,'train'), train_transform)\n",
    "#valid_ds = ImageFolder('./data/imagenette-160/val', valid_tfms)\n",
    "\n",
    "batch_size = 32\n",
    "train_dataloader = torch.utils.data.DataLoader(\n",
    "        dataset_train,\n",
    "        batch_size=batch_size,\n",
    "        num_workers=8,\n",
    "        drop_last=True,\n",
    "        shuffle=True,\n",
    ")\n"
   ]
  },
  {
   "cell_type": "code",
   "execution_count": null,
   "id": "ee77e2a4",
   "metadata": {},
   "outputs": [],
   "source": []
  }
 ],
 "metadata": {
  "kernelspec": {
   "display_name": "Python 3",
   "language": "python",
   "name": "python3"
  },
  "language_info": {
   "codemirror_mode": {
    "name": "ipython",
    "version": 3
   },
   "file_extension": ".py",
   "mimetype": "text/x-python",
   "name": "python",
   "nbconvert_exporter": "python",
   "pygments_lexer": "ipython3",
   "version": "3.8.10"
  }
 },
 "nbformat": 4,
 "nbformat_minor": 5
}
